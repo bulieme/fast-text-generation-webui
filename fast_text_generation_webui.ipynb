{
  "nbformat": 4,
  "nbformat_minor": 0,
  "metadata": {
    "colab": {
      "provenance": [],
      "gpuType": "T4",
      "mount_file_id": "1v-DQ0mayNIY2EXkXjRUP8AUdcJ0UTGp4",
      "authorship_tag": "ABX9TyOjq07bOX3q9+3QtC5Npnra",
      "include_colab_link": true
    },
    "kernelspec": {
      "name": "python3",
      "display_name": "Python 3"
    },
    "language_info": {
      "name": "python"
    },
    "accelerator": "GPU"
  },
  "cells": [
    {
      "cell_type": "markdown",
      "metadata": {
        "id": "view-in-github",
        "colab_type": "text"
      },
      "source": [
        "<a href=\"https://colab.research.google.com/github/bulieme/fast-text-generation-webui/blob/main/fast_text_generation_webui.ipynb\" target=\"_parent\"><img src=\"https://colab.research.google.com/assets/colab-badge.svg\" alt=\"Open In Colab\"/></a>"
      ]
    },
    {
      "cell_type": "code",
      "source": [
        "#@title ### mount google drive\n",
        "from google.colab import drive\n",
        "drive.mount('/content/drive')"
      ],
      "metadata": {
        "cellView": "form",
        "id": "f3UUX9rb14IW"
      },
      "execution_count": null,
      "outputs": []
    },
    {
      "cell_type": "code",
      "source": [
        "# @title ## Install / Update Repository from google drive\n",
        "import base64, os\n",
        "from IPython.display import clear_output\n",
        "\n",
        "goodness_gracious = \"ZDJWaWRXaz0=\"\n",
        "goodness_gracious = base64.b64decode(goodness_gracious).decode(\"utf-8\")\n",
        "goodness_gracious = base64.b64decode(goodness_gracious).decode(\"utf-8\")\n",
        "\n",
        "#check if directory exists, if it does update the repo\n",
        "if os.path.isdir(f\"/content/drive/MyDrive/text-generation-{goodness_gracious}\"):\n",
        "    %cd /content/drive/MyDrive/text-generation-{goodness_gracious}\n",
        "    !git pull\n",
        "else:\n",
        "    %cd /content/drive/MyDrive\n",
        "    !git clone https://github.com/oobabooga/text-generation-{goodness_gracious}.git\n",
        "\n",
        "clear_output()\n",
        "print(\"finished\")"
      ],
      "metadata": {
        "id": "39phmqxx2FUL",
        "cellView": "form"
      },
      "execution_count": null,
      "outputs": []
    },
    {
      "cell_type": "code",
      "source": [
        "# @title ### Install dependencies\n",
        "# @markdown run this in every runtime, it takes only like ~10 mins\n",
        "import base64, os, time\n",
        "from IPython.display import clear_output\n",
        "goodness_gracious = \"ZDJWaWRXaz0=\"\n",
        "goodness_gracious = base64.b64decode(goodness_gracious).decode(\"utf-8\")\n",
        "goodness_gracious = base64.b64decode(goodness_gracious).decode(\"utf-8\")\n",
        "\n",
        "!pip3 install torch==2.2.2 torchvision==0.17.2 torchaudio==2.2.2 --index-url https://download.pytorch.org/whl/cu121\n",
        "\n",
        "if not (f\"text-generation-{goodness_gracious}\" in os.getcwd()):\n",
        "    %cd /content/drive/MyDrive/text-generation-{goodness_gracious}\n",
        "\n",
        "!pip install -r requirements.txt\n",
        "\n",
        "clear_output()\n",
        "print(\"finished\")"
      ],
      "metadata": {
        "cellView": "form",
        "id": "gCOKjwuOObXW"
      },
      "execution_count": null,
      "outputs": []
    },
    {
      "cell_type": "code",
      "source": [
        "# @title ## Download model\n",
        "model_url = \"https://huggingface.co/turboderp/gemma-2-9b-it-exl2\" #@param {type:\"string\"}\n",
        "branch = \"8.0bpw\" #@param {type:\"string\"}\n",
        "\n",
        "model_url = model_url.strip()\n",
        "if model_url != \"\":\n",
        "    if not model_url.startswith('http'):\n",
        "        model_url = 'https://huggingface.co/' + model_url\n",
        "\n",
        "    # Download the model\n",
        "    url_parts = model_url.strip('/').strip().split('/')\n",
        "    output_folder = f\"{url_parts[-2]}_{url_parts[-1]}\"\n",
        "    branch = branch.strip('\"\\' ')\n",
        "    if branch.strip() not in ['', 'main']:\n",
        "        output_folder += f\"_{branch}\"\n",
        "        !python download-model.py {model_url} --branch {branch}\n",
        "    else:\n",
        "        !python download-model.py {model_url}\n",
        "else:\n",
        "    output_folder = \"\""
      ],
      "metadata": {
        "cellView": "form",
        "id": "3Q7UjRVKUmqd"
      },
      "execution_count": null,
      "outputs": []
    },
    {
      "cell_type": "code",
      "source": [
        "# @title Run Server\n",
        "\n",
        "import base64, os\n",
        "from IPython.display import clear_output\n",
        "\n",
        "command_line_flags = \"--n-gpu-layers 128 --load-in-4bit --use_double_quant --no_flash_attn\" # @param {\"type\":\"string\"}\n",
        "\n",
        "goodness_gracious = \"ZDJWaWRXaz0=\"\n",
        "goodness_gracious = base64.b64decode(goodness_gracious).decode(\"utf-8\")\n",
        "goodness_gracious = base64.b64decode(goodness_gracious).decode(\"utf-8\")\n",
        "\n",
        "if not (f\"text-generation-{goodness_gracious}\" in os.getcwd()):\n",
        "    %cd /content/drive/MyDrive/text-generation-{goodness_gracious}\n",
        "\n",
        "!python server.py {command_line_flags} --share"
      ],
      "metadata": {
        "cellView": "form",
        "id": "_lqG7ZzDQXm6"
      },
      "execution_count": null,
      "outputs": []
    }
  ]
}